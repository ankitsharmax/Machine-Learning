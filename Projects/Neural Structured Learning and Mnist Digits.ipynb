{
 "cells": [
  {
   "cell_type": "markdown",
   "metadata": {},
   "source": [
    "## Importing necessary libraries|"
   ]
  },
  {
   "cell_type": "code",
   "execution_count": 1,
   "metadata": {},
   "outputs": [],
   "source": [
    "import numpy as np\n",
    "import matplotlib.pyplot as plt\n",
    "import tensorflow as tf\n",
    "import neural_structured_learning as nsl\n",
    "from tensorflow.keras.utils import to_categorical\n",
    "\n",
    "%matplotlib inline"
   ]
  },
  {
   "cell_type": "markdown",
   "metadata": {},
   "source": [
    "## Loading Mnist digits dataset"
   ]
  },
  {
   "cell_type": "code",
   "execution_count": 2,
   "metadata": {},
   "outputs": [],
   "source": [
    "(train_images, train_labels),(test_images, test_labels) = tf.keras.datasets.mnist.load_data()"
   ]
  },
  {
   "cell_type": "markdown",
   "metadata": {},
   "source": [
    "## Data Visualization"
   ]
  },
  {
   "cell_type": "code",
   "execution_count": 3,
   "metadata": {},
   "outputs": [
    {
     "data": {
      "image/png": "[encoded data removed]",
      "text/plain": [
       "<Figure size 288x288 with 25 Axes>"
      ]
     },
     "metadata": {},
     "output_type": "display_data"
    }
   ],
   "source": [
    "plt.figure(figsize=(4,4))\n",
    "for i in range(25):\n",
    "    plt.subplot(5,5,i+1)\n",
    "    plt.xticks([])\n",
    "    plt.yticks([])\n",
    "    plt.grid(False)\n",
    "    plt.imshow(train_images[i],cmap='binary')\n",
    "plt.show()"
   ]
  },
  {
   "cell_type": "markdown",
   "metadata": {},
   "source": [
    "## Data Preprocessing"
   ]
  },
  {
   "cell_type": "code",
   "execution_count": 4,
   "metadata": {},
   "outputs": [
    {
     "name": "stdout",
     "output_type": "stream",
     "text": [
      "train_images shape:  (60000, 28, 28)\n",
      "test images shape:  (10000, 28, 28)\n",
      "train labels shape:  (60000,)\n",
      "test labels shape:  (10000,)\n"
     ]
    }
   ],
   "source": [
    "print(\"train_images shape: \", train_images.shape)\n",
    "print(\"test images shape: \",test_images.shape)\n",
    "print(\"train labels shape: \",train_labels.shape)\n",
    "print(\"test labels shape: \",test_labels.shape)"
   ]
  },
  {
   "cell_type": "code",
   "execution_count": 5,
   "metadata": {},
   "outputs": [
    {
     "name": "stdout",
     "output_type": "stream",
     "text": [
      "train_images shape:  (60000, 28, 28, 1)\n",
      "test images shape:  (10000, 28, 28, 1)\n"
     ]
    }
   ],
   "source": [
    "# Input shape\n",
    "\n",
    "x_train = train_images[:,:,:,np.newaxis]\n",
    "x_test = test_images[:,:,:,np.newaxis]\n",
    "print(\"train_images shape: \", x_train.shape)\n",
    "print(\"test images shape: \",x_test.shape)\n",
    "\n",
    "# Normalization\n",
    "x_train = x_train.astype('float32')/255.\n",
    "x_test = x_test.astype('float32')/255.\n",
    "\n",
    "# Converting labels into category\n",
    "y_train = to_categorical(train_labels)\n",
    "y_test = to_categorical(test_labels)"
   ]
  },
  {
   "cell_type": "markdown",
   "metadata": {},
   "source": [
    "## Model Structure"
   ]
  },
  {
   "cell_type": "code",
   "execution_count": 6,
   "metadata": {},
   "outputs": [],
   "source": [
    "from tensorflow.keras.models import Sequential\n",
    "from tensorflow.keras.layers import Dense, Conv2D, Flatten, MaxPooling2D,Dropout"
   ]
  },
  {
   "cell_type": "code",
   "execution_count": 7,
   "metadata": {},
   "outputs": [],
   "source": [
    "def create_model0():\n",
    "    model = Sequential([\n",
    "        Conv2D(28, kernel_size=(3,3), input_shape=(28,28,1)),\n",
    "        MaxPooling2D(pool_size=(2, 2)),\n",
    "        Flatten(),\n",
    "        Dense(128,activation='relu'),\n",
    "        Dropout(0.2),\n",
    "        Dense(10,activation='softmax')\n",
    "    ])\n",
    "    \n",
    "    adv_config = nsl.configs.make_adv_reg_config(multiplier=0.2, adv_step_size=0.05)\n",
    "    adv_model = nsl.keras.AdversarialRegularization(model, adv_config=adv_config)\n",
    "    \n",
    "    return adv_model"
   ]
  },
  {
   "cell_type": "code",
   "execution_count": 8,
   "metadata": {},
   "outputs": [],
   "source": [
    "def create_model1():\n",
    "    model = Sequential([\n",
    "        Conv2D(32,(3,3),activation='relu',kernel_initializer = 'he_uniform',input_shape=(28,28,1)),\n",
    "        MaxPooling2D((2,2)),\n",
    "        Flatten(),\n",
    "        Dense(128,activation='relu', kernel_initializer='he_uniform'),\n",
    "        Dropout(0.2),\n",
    "        Dense(10,activation='softmax')\n",
    "    ])\n",
    "    \n",
    "    adv_config = nsl.configs.make_adv_reg_config(multiplier=0.2, adv_step_size=0.05)\n",
    "    adv_model = nsl.keras.AdversarialRegularization(model, adv_config=adv_config)\n",
    "    \n",
    "    return adv_model"
   ]
  },
  {
   "cell_type": "code",
   "execution_count": 9,
   "metadata": {},
   "outputs": [],
   "source": [
    "def create_model2():\n",
    "    model = Sequential([\n",
    "        Conv2D(32,(3,3),activation='relu',kernel_initializer = 'he_uniform',input_shape=(28,28,1)),\n",
    "        MaxPooling2D((2,2)),\n",
    "        Conv2D(64,(3,3),activation='relu',kernel_initializer = 'he_uniform'),\n",
    "        Conv2D(64,(3,3),activation='relu',kernel_initializer = 'he_uniform'),\n",
    "        MaxPooling2D((2,2)),\n",
    "        Flatten(),\n",
    "        Dense(128,activation='relu', kernel_initializer='he_uniform'),\n",
    "        Dropout(0.2),\n",
    "        Dense(10,activation='softmax')\n",
    "    ])\n",
    "    \n",
    "    adv_config = nsl.configs.make_adv_reg_config(multiplier=0.2, adv_step_size=0.05)\n",
    "    adv_model = nsl.keras.AdversarialRegularization(model, adv_config=adv_config)\n",
    "    \n",
    "    return adv_model"
   ]
  },
  {
   "cell_type": "code",
   "execution_count": 10,
   "metadata": {},
   "outputs": [
    {
     "name": "stdout",
     "output_type": "stream",
     "text": [
      "WARNING:tensorflow:From <ipython-input-10-17bb7203622b>:1: is_gpu_available (from tensorflow.python.framework.test_util) is deprecated and will be removed in a future version.\n",
      "Instructions for updating:\n",
      "Use `tf.config.list_physical_devices('GPU')` instead.\n"
     ]
    },
    {
     "data": {
      "text/plain": [
       "True"
      ]
     },
     "execution_count": 10,
     "metadata": {},
     "output_type": "execute_result"
    }
   ],
   "source": [
    "tf.test.is_gpu_available()"
   ]
  },
  {
   "cell_type": "code",
   "execution_count": 11,
   "metadata": {},
   "outputs": [],
   "source": [
    "def plot_accuracy_and_loss_graphs(history):\n",
    "    acc = history.history['categorical_accuracy']\n",
    "    val_acc = history.history['val_categorical_accuracy']\n",
    "    loss = history.history['loss']\n",
    "    val_loss = history.history['val_loss']\n",
    "    val_scaled_adversarial_loss = history.history['val_scaled_adversarial_loss']\n",
    "\n",
    "    epochs = range(len(acc))\n",
    "\n",
    "    plt.plot(epochs, acc, 'r', label='Training accuracy')\n",
    "    plt.plot(epochs, val_acc, 'b', label='Validation accuracy')\n",
    "    plt.title('Training and validation accuracy')\n",
    "    plt.legend(loc=0)\n",
    "    plt.figure()\n",
    "    \n",
    "    plt.plot(epochs, loss, 'r', label='Training loss')\n",
    "    plt.plot(epochs, val_loss, 'b', label='Validation loss')\n",
    "    plt.plot(epochs, val_scaled_adversarial_loss, 'g',label='val_scaled_adversarial_loss')\n",
    "    plt.title('Training and validation accuracy')\n",
    "    plt.legend(loc=0)\n",
    "    plt.figure()\n",
    "\n",
    "    plt.show()"
   ]
  },
  {
   "cell_type": "code",
   "execution_count": 12,
   "metadata": {},
   "outputs": [],
   "source": [
    "def plot_predictions():\n",
    "    plt.figure(figsize=(10,10))\n",
    "    for i in range(25):\n",
    "      plt.subplot(5,5,i+1)\n",
    "      plt.xticks([])\n",
    "      plt.yticks([])\n",
    "      plt.grid(False)\n",
    "      plt.imshow(test_images[i],cmap='binary')\n",
    "      plt.title(\"Actual: \"+str(test_labels[i])+\" | Predicted: \"+str(y_pred[i].argmax()))\n",
    "\n",
    "    plt.tight_layout()\n",
    "    plt.show()"
   ]
  },
  {
   "cell_type": "code",
   "execution_count": 13,
   "metadata": {},
   "outputs": [],
   "source": [
    "def compile_model(model, epochs=5):\n",
    "    model.compile(optimizer='adam',\n",
    "                 loss='categorical_crossentropy',\n",
    "                 metrics=['accuracy'])\n",
    "    \n",
    "#     history = model.fit({'feature': x_train, 'label': y_train}, epochs=5, batch_size = 32,shuffle=True,validation_split=0.2,\n",
    "#                        verbose=2)\n",
    "    history = model.fit({'feature': x_train, 'label': y_train}, epochs=epochs, batch_size = 32)\n",
    "    scores = model.evaluate({'feature': x_test, 'label': y_test},verbose=0)\n",
    "    print(\"\\nTest Data Accuracy: \")\n",
    "    print(scores[2])\n",
    "#     print(\"\\nTest Data Accuracy: \".format(str(scores[2])))\n",
    "    \n",
    "#     plot_accuracy_and_loss_graphs(history)\n",
    "    \n",
    "#     y_pred = model.predict(x_test)\n",
    "    \n",
    "#     plot_predictions(y_pred)"
   ]
  },
  {
   "cell_type": "code",
   "execution_count": 14,
   "metadata": {},
   "outputs": [
    {
     "name": "stdout",
     "output_type": "stream",
     "text": [
      "Epoch 1/6\n",
      "WARNING:tensorflow:AutoGraph could not transform <bound method Socket.send of <zmq.sugar.socket.Socket object at 0x000002912B5BB3C8>> and will run it as-is.\n",
      "Please report this to the TensorFlow team. When filing the bug, set the verbosity to 10 (on Linux, `export AUTOGRAPH_VERBOSITY=10`) and attach the full output.\n",
      "Cause: module, class, method, function, traceback, frame, or code object was expected, got cython_function_or_method\n",
      "To silence this warning, decorate the function with @tf.autograph.experimental.do_not_convert\n"
     ]
    },
    {
     "name": "stderr",
     "output_type": "stream",
     "text": [
      "WARNING:absl:Cannot perturb features dict_keys(['label'])\n",
      "WARNING:tensorflow:AutoGraph could not transform <bound method Socket.send of <zmq.sugar.socket.Socket object at 0x000002912B5BB3C8>> and will run it as-is.\n",
      "Please report this to the TensorFlow team. When filing the bug, set the verbosity to 10 (on Linux, `export AUTOGRAPH_VERBOSITY=10`) and attach the full output.\n",
      "Cause: module, class, method, function, traceback, frame, or code object was expected, got cython_function_or_method\n",
      "To silence this warning, decorate the function with @tf.autograph.experimental.do_not_convert\n"
     ]
    },
    {
     "name": "stdout",
     "output_type": "stream",
     "text": [
      "WARNING: AutoGraph could not transform <bound method Socket.send of <zmq.sugar.socket.Socket object at 0x000002912B5BB3C8>> and will run it as-is.\n",
      "Please report this to the TensorFlow team. When filing the bug, set the verbosity to 10 (on Linux, `export AUTOGRAPH_VERBOSITY=10`) and attach the full output.\n",
      "Cause: module, class, method, function, traceback, frame, or code object was expected, got cython_function_or_method\n",
      "To silence this warning, decorate the function with @tf.autograph.experimental.do_not_convert\n",
      "1875/1875 [==============================] - 8s 4ms/step - loss: 0.2384 - categorical_crossentropy: 0.1955 - categorical_accuracy: 0.9415 - scaled_adversarial_loss: 0.0429\n",
      "Epoch 2/6\n",
      "1875/1875 [==============================] - 8s 4ms/step - loss: 0.0955 - categorical_crossentropy: 0.0777 - categorical_accuracy: 0.9767 - scaled_adversarial_loss: 0.0178\n",
      "Epoch 3/6\n",
      "1875/1875 [==============================] - 9s 5ms/step - loss: 0.0642 - categorical_crossentropy: 0.0520 - categorical_accuracy: 0.9835 - scaled_adversarial_loss: 0.0122\n",
      "Epoch 4/6\n",
      "1875/1875 [==============================] - 9s 5ms/step - loss: 0.0489 - categorical_crossentropy: 0.0396 - categorical_accuracy: 0.9871 - scaled_adversarial_loss: 0.0093\n",
      "Epoch 5/6\n",
      "1875/1875 [==============================] - 14s 8ms/step - loss: 0.0360 - categorical_crossentropy: 0.0287 - categorical_accuracy: 0.9901 - scaled_adversarial_loss: 0.0072: 2s - loss: 0.0349 - categorical_crossentropy: 0.0279 - categorical_accur\n",
      "Epoch 6/6\n",
      "1875/1875 [==============================] - 11s 6ms/step - loss: 0.0300 - categorical_crossentropy: 0.0238 - categorical_accuracy: 0.9922 - scaled_adversarial_loss: 0.0061\n",
      "\n",
      "Test Data Accuracy: \n",
      "0.9857000112533569\n"
     ]
    }
   ],
   "source": [
    "model_A = create_model0()\n",
    "compile_model(model_A,epochs=6)"
   ]
  },
  {
   "cell_type": "code",
   "execution_count": 15,
   "metadata": {},
   "outputs": [
    {
     "name": "stdout",
     "output_type": "stream",
     "text": [
      "Epoch 1/6\n",
      "1875/1875 [==============================] - 11s 6ms/step - loss: 0.2141 - categorical_crossentropy: 0.1759 - categorical_accuracy: 0.9472 - scaled_adversarial_loss: 0.0382\n",
      "Epoch 2/6\n",
      "1875/1875 [==============================] - 10s 5ms/step - loss: 0.0799 - categorical_crossentropy: 0.0648 - categorical_accuracy: 0.9801 - scaled_adversarial_loss: 0.0151\n",
      "Epoch 3/6\n",
      "1875/1875 [==============================] - 11s 6ms/step - loss: 0.0549 - categorical_crossentropy: 0.0440 - categorical_accuracy: 0.9863 - scaled_adversarial_loss: 0.0109\n",
      "Epoch 4/6\n",
      "1875/1875 [==============================] - 10s 5ms/step - loss: 0.0374 - categorical_crossentropy: 0.0296 - categorical_accuracy: 0.9902 - scaled_adversarial_loss: 0.0078\n",
      "Epoch 5/6\n",
      "1875/1875 [==============================] - 10s 5ms/step - loss: 0.0295 - categorical_crossentropy: 0.0232 - categorical_accuracy: 0.9921 - scaled_adversarial_loss: 0.0064\n",
      "Epoch 6/6\n",
      "1875/1875 [==============================] - 9s 5ms/step - loss: 0.0241 - categorical_crossentropy: 0.0189 - categorical_accuracy: 0.9939 - scaled_adversarial_loss: 0.0052\n",
      "\n",
      "Test Data Accuracy: \n",
      "0.9883000254631042\n"
     ]
    }
   ],
   "source": [
    "model_B = create_model1()\n",
    "compile_model(model_B,epochs=6)"
   ]
  },
  {
   "cell_type": "code",
   "execution_count": 16,
   "metadata": {},
   "outputs": [
    {
     "name": "stdout",
     "output_type": "stream",
     "text": [
      "Epoch 1/6\n",
      "1875/1875 [==============================] - 13s 7ms/step - loss: 0.1688 - categorical_crossentropy: 0.1390 - categorical_accuracy: 0.9575 - scaled_adversarial_loss: 0.0298\n",
      "Epoch 2/6\n",
      "1875/1875 [==============================] - 15s 8ms/step - loss: 0.0574 - categorical_crossentropy: 0.0468 - categorical_accuracy: 0.9858 - scaled_adversarial_loss: 0.0106\n",
      "Epoch 3/6\n",
      "1875/1875 [==============================] - 13s 7ms/step - loss: 0.0404 - categorical_crossentropy: 0.0327 - categorical_accuracy: 0.9899 - scaled_adversarial_loss: 0.0077\n",
      "Epoch 4/6\n",
      "1875/1875 [==============================] - 12s 6ms/step - loss: 0.0309 - categorical_crossentropy: 0.0248 - categorical_accuracy: 0.9922 - scaled_adversarial_loss: 0.0061\n",
      "Epoch 5/6\n",
      "1875/1875 [==============================] - 12s 6ms/step - loss: 0.0248 - categorical_crossentropy: 0.0197 - categorical_accuracy: 0.9936 - scaled_adversarial_loss: 0.0051\n",
      "Epoch 6/6\n",
      "1875/1875 [==============================] - 12s 6ms/step - loss: 0.0192 - categorical_crossentropy: 0.0152 - categorical_accuracy: 0.9952 - scaled_adversarial_loss: 0.0040\n",
      "\n",
      "Test Data Accuracy: \n",
      "0.9926999807357788\n"
     ]
    }
   ],
   "source": [
    "model_C = create_model2()\n",
    "compile_model(model_C,epochs=6)"
   ]
  },
  {
   "cell_type": "markdown",
   "metadata": {},
   "source": [
    "## Basic"
   ]
  },
  {
   "cell_type": "code",
   "execution_count": 17,
   "metadata": {},
   "outputs": [
    {
     "name": "stdout",
     "output_type": "stream",
     "text": [
      "Epoch 1/5\n",
      "WARNING:tensorflow:The dtype of the watched tensor must be floating (e.g. tf.float32), got tf.uint8\n"
     ]
    },
    {
     "name": "stderr",
     "output_type": "stream",
     "text": [
      "WARNING:tensorflow:The dtype of the watched tensor must be floating (e.g. tf.float32), got tf.uint8\n"
     ]
    },
    {
     "name": "stdout",
     "output_type": "stream",
     "text": [
      "WARNING:tensorflow:The dtype of the source tensor must be floating (e.g. tf.float32) when calling GradientTape.gradient, got tf.uint8\n"
     ]
    },
    {
     "name": "stderr",
     "output_type": "stream",
     "text": [
      "WARNING:tensorflow:The dtype of the source tensor must be floating (e.g. tf.float32) when calling GradientTape.gradient, got tf.uint8\n"
     ]
    },
    {
     "name": "stdout",
     "output_type": "stream",
     "text": [
      "WARNING:tensorflow:The dtype of the watched tensor must be floating (e.g. tf.float32), got tf.uint8\n"
     ]
    },
    {
     "name": "stderr",
     "output_type": "stream",
     "text": [
      "WARNING:tensorflow:The dtype of the watched tensor must be floating (e.g. tf.float32), got tf.uint8\n"
     ]
    },
    {
     "name": "stdout",
     "output_type": "stream",
     "text": [
      "WARNING:tensorflow:The dtype of the source tensor must be floating (e.g. tf.float32) when calling GradientTape.gradient, got tf.uint8\n"
     ]
    },
    {
     "name": "stderr",
     "output_type": "stream",
     "text": [
      "WARNING:tensorflow:The dtype of the source tensor must be floating (e.g. tf.float32) when calling GradientTape.gradient, got tf.uint8\n"
     ]
    },
    {
     "name": "stdout",
     "output_type": "stream",
     "text": [
      "1875/1875 [==============================] - 3s 2ms/step - loss: 0.3132 - sparse_categorical_crossentropy: 0.2561 - sparse_categorical_accuracy: 0.9270 - scaled_adversarial_loss: 0.0571\n",
      "Epoch 2/5\n",
      "1875/1875 [==============================] - 3s 2ms/step - loss: 0.1391 - sparse_categorical_crossentropy: 0.1124 - sparse_categorical_accuracy: 0.9671 - scaled_adversarial_loss: 0.0267\n",
      "Epoch 3/5\n",
      "1875/1875 [==============================] - 3s 2ms/step - loss: 0.0954 - sparse_categorical_crossentropy: 0.0766 - sparse_categorical_accuracy: 0.9763 - scaled_adversarial_loss: 0.0188\n",
      "Epoch 4/5\n",
      "1875/1875 [==============================] - 3s 2ms/step - loss: 0.0727 - sparse_categorical_crossentropy: 0.0580 - sparse_categorical_accuracy: 0.9823 - scaled_adversarial_loss: 0.0147\n",
      "Epoch 5/5\n",
      "1875/1875 [==============================] - 3s 2ms/step - loss: 0.0561 - sparse_categorical_crossentropy: 0.0444 - sparse_categorical_accuracy: 0.9865 - scaled_adversarial_loss: 0.0117\n",
      "WARNING:tensorflow:The dtype of the watched tensor must be floating (e.g. tf.float32), got tf.uint8\n"
     ]
    },
    {
     "name": "stderr",
     "output_type": "stream",
     "text": [
      "WARNING:tensorflow:The dtype of the watched tensor must be floating (e.g. tf.float32), got tf.uint8\n"
     ]
    },
    {
     "name": "stdout",
     "output_type": "stream",
     "text": [
      "WARNING:tensorflow:The dtype of the source tensor must be floating (e.g. tf.float32) when calling GradientTape.gradient, got tf.uint8\n"
     ]
    },
    {
     "name": "stderr",
     "output_type": "stream",
     "text": [
      "WARNING:tensorflow:The dtype of the source tensor must be floating (e.g. tf.float32) when calling GradientTape.gradient, got tf.uint8\n"
     ]
    },
    {
     "name": "stdout",
     "output_type": "stream",
     "text": [
      "313/313 [==============================] - 0s 2ms/step - loss: 0.0886 - sparse_categorical_crossentropy: 0.0708 - sparse_categorical_accuracy: 0.9783 - scaled_adversarial_loss: 0.0178\n"
     ]
    },
    {
     "data": {
      "text/plain": [
       "[0.08864056318998337,\n",
       " 0.07080133259296417,\n",
       " 0.9782999753952026,\n",
       " 0.01783919706940651]"
      ]
     },
     "execution_count": 17,
     "metadata": {},
     "output_type": "execute_result"
    }
   ],
   "source": [
    "import tensorflow as tf\n",
    "import neural_structured_learning as nsl\n",
    "\n",
    "# Prepare data.\n",
    "(x_train, y_train), (x_test, y_test) = tf.keras.datasets.mnist.load_data()\n",
    "x_train, x_test = x_train / 255.0, x_test / 255.0\n",
    "\n",
    "# Create a base model -- sequential, functional, or subclass.\n",
    "model = tf.keras.Sequential([\n",
    "    tf.keras.Input((28, 28), name='feature'),\n",
    "    tf.keras.layers.Flatten(),\n",
    "    tf.keras.layers.Dense(128, activation=tf.nn.relu),\n",
    "    tf.keras.layers.Dense(10, activation=tf.nn.softmax)\n",
    "])\n",
    "\n",
    "# Wrap the model with adversarial regularization.\n",
    "adv_config = nsl.configs.make_adv_reg_config(multiplier=0.2, adv_step_size=0.05)\n",
    "adv_model = nsl.keras.AdversarialRegularization(model, adv_config=adv_config)\n",
    "\n",
    "# Compile, train, and evaluate.\n",
    "adv_model.compile(optimizer='adam',\n",
    "                  loss='sparse_categorical_crossentropy',\n",
    "                  metrics=['accuracy'])\n",
    "adv_model.fit({'feature': x_train, 'label': y_train}, batch_size=32, epochs=5)\n",
    "adv_model.evaluate({'feature': x_test, 'label': y_test})"
   ]
  },
  {
   "cell_type": "code",
   "execution_count": null,
   "metadata": {},
   "outputs": [],
   "source": []
  }
 ],
 "metadata": {
  "kernelspec": {
   "display_name": "Python 3",
   "language": "python",
   "name": "python3"
  },
  "language_info": {
   "codemirror_mode": {
    "name": "ipython",
    "version": 3
   },
   "file_extension": ".py",
   "mimetype": "text/x-python",
   "name": "python",
   "nbconvert_exporter": "python",
   "pygments_lexer": "ipython3",
   "version": "3.7.4"
  },
  "latex_envs": {
   "LaTeX_envs_menu_present": true,
   "autoclose": false,
   "autocomplete": true,
   "bibliofile": "biblio.bib",
   "cite_by": "apalike",
   "current_citInitial": 1,
   "eqLabelWithNumbers": true,
   "eqNumInitial": 1,
   "hotkeys": {
    "equation": "Ctrl-E",
    "itemize": "Ctrl-I"
   },
   "labels_anchors": false,
   "latex_user_defs": false,
   "report_style_numbering": false,
   "user_envs_cfg": false
  },
  "varInspector": {
   "cols": {
    "lenName": 16,
    "lenType": 16,
    "lenVar": 40
   },
   "kernels_config": {
    "python": {
     "delete_cmd_postfix": "",
     "delete_cmd_prefix": "del ",
     "library": "var_list.py",
     "varRefreshCmd": "print(var_dic_list())"
    },
    "r": {
     "delete_cmd_postfix": ") ",
     "delete_cmd_prefix": "rm(",
     "library": "var_list.r",
     "varRefreshCmd": "cat(var_dic_list()) "
    }
   },
   "types_to_exclude": [
    "module",
    "function",
    "builtin_function_or_method",
    "instance",
    "_Feature"
   ],
   "window_display": false
  }
 },
 "nbformat": 4,
 "nbformat_minor": 4
}
